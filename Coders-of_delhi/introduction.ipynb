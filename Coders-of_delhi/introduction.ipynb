{
 "cells": [
  {
   "cell_type": "code",
   "execution_count": 23,
   "id": "c14911d1",
   "metadata": {},
   "outputs": [],
   "source": [
    "import json "
   ]
  },
  {
   "cell_type": "code",
   "execution_count": 24,
   "id": "d5d44e1a",
   "metadata": {},
   "outputs": [],
   "source": [
    "# Loading JSON \n",
    "\n",
    "def load_data(filname):\n",
    "    with open(\"data.json\", \"r\") as f:\n",
    "        data = json.load(f)\n",
    "    return data "
   ]
  },
  {
   "cell_type": "code",
   "execution_count": 25,
   "id": "04c4e14d",
   "metadata": {},
   "outputs": [],
   "source": [
    "data = load_data(\"data.json\")"
   ]
  },
  {
   "cell_type": "code",
   "execution_count": 26,
   "id": "a31b62c0",
   "metadata": {},
   "outputs": [
    {
     "data": {
      "text/plain": [
       "{'users': [{'id': 1, 'name': 'Amit', 'friends': [2, 3], 'liked_pages': [101]},\n",
       "  {'id': 2, 'name': 'Priya', 'friends': [1, 4], 'liked_pages': [102]},\n",
       "  {'id': 3, 'name': 'Rahul', 'friends': [1], 'liked_pages': [101, 103]},\n",
       "  {'id': 4, 'name': 'Sara', 'friends': [2], 'liked_pages': [104]}],\n",
       " 'pages': [{'id': 101, 'name': 'Python Developers'},\n",
       "  {'id': 102, 'name': 'Data Science Enthusiasts'},\n",
       "  {'id': 103, 'name': 'AI & ML Community'},\n",
       "  {'id': 104, 'name': 'Web Dev Hub'}]}"
      ]
     },
     "execution_count": 26,
     "metadata": {},
     "output_type": "execute_result"
    }
   ],
   "source": [
    "data"
   ]
  },
  {
   "cell_type": "code",
   "execution_count": 27,
   "id": "5d904127",
   "metadata": {},
   "outputs": [
    {
     "data": {
      "text/plain": [
       "dict"
      ]
     },
     "execution_count": 27,
     "metadata": {},
     "output_type": "execute_result"
    }
   ],
   "source": [
    "type(data)"
   ]
  },
  {
   "cell_type": "code",
   "execution_count": null,
   "id": "47bde531",
   "metadata": {},
   "outputs": [
    {
     "name": "stdout",
     "output_type": "stream",
     "text": [
      "{1: 'Amit', 2: 'Priya', 3: 'Rahul', 4: 'Sara'}\n"
     ]
    }
   ],
   "source": [
    "\n",
    "\n",
    "print(f\"{id_to_name}\")"
   ]
  },
  {
   "cell_type": "code",
   "execution_count": 37,
   "id": "337c9cd1",
   "metadata": {},
   "outputs": [
    {
     "name": "stdout",
     "output_type": "stream",
     "text": [
      "Users and their connections: \n",
      "ID: 1 -  Name: Amit and they are friends with Priya, Rahul\n",
      "ID: 2 -  Name: Priya and they are friends with Amit, Sara\n",
      "ID: 3 -  Name: Rahul and they are friends with Amit\n",
      "ID: 4 -  Name: Sara and they are friends with Priya\n",
      "\n",
      "Page Information: \n",
      "ID: 101 - pages: Python Developers\n",
      "ID: 102 - pages: Data Science Enthusiasts\n",
      "ID: 103 - pages: AI & ML Community\n",
      "ID: 104 - pages: Web Dev Hub\n"
     ]
    }
   ],
   "source": [
    "# Display Function \n",
    "\n",
    "def display_user(data):\n",
    "    print(\"Users and their connections: \")\n",
    "    for user in data['users']:\n",
    "        id_to_name = {user['id']: user['name'] for user in data['users']}\n",
    "        friend_names = [id_to_name[friend_id] for friend_id in user['friends']]\n",
    "        friend_names_str = \", \".join(friend_names)\n",
    "        print(f\"ID: {user['id']} -  Name: {user['name']} and they are friends with {friend_names_str}\")\n",
    "    \n",
    "    print(\"\\nPage Information: \")\n",
    "    for page in data['pages']:\n",
    "        print(f\"ID: {page['id']} - pages: {page['name']}\")\n",
    "\n",
    "display_user(data)"
   ]
  },
  {
   "cell_type": "code",
   "execution_count": null,
   "id": "4cdb3fb2",
   "metadata": {},
   "outputs": [],
   "source": []
  },
  {
   "cell_type": "code",
   "execution_count": null,
   "id": "eae53a5d",
   "metadata": {},
   "outputs": [],
   "source": []
  }
 ],
 "metadata": {
  "kernelspec": {
   "display_name": "abdullahenv",
   "language": "python",
   "name": "python3"
  },
  "language_info": {
   "codemirror_mode": {
    "name": "ipython",
    "version": 3
   },
   "file_extension": ".py",
   "mimetype": "text/x-python",
   "name": "python",
   "nbconvert_exporter": "python",
   "pygments_lexer": "ipython3",
   "version": "3.13.2"
  }
 },
 "nbformat": 4,
 "nbformat_minor": 5
}
