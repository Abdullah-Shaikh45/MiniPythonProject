import pandas as pd
import plotly.express as px


# importing csv

df = pd.read_csv('data/owid-covid-data.csv')
df





df.info()


df.describe()


df.columns


## Dropping the unwanted columns

df.drop(columns=
        ['excess_mortality_cumulative_absolute', 
         'excess_mortality_cumulative', 
         'excess_mortality', 
         'excess_mortality_cumulative_per_million', 
         'continent', 
         'iso_code'], inplace=True)


df.isna().sum()


df


# Handling missing values

df['total_cases'] = df['total_cases'].fillna(0)
df['new_cases'] = df['new_cases'].fillna(0)
df['total_deaths'] = df['total_deaths'].fillna(0)
df['new_deaths'] = df['new_deaths'].fillna(0)


df = df[df['location'] == 'India']
df['date'] = pd.to_datetime(df['date'])


# using only selected columns
df_cleaned = df[['date', 'location', 'total_cases', 'new_cases', 'total_deaths', 'new_deaths']]
df_cleaned.to_csv("new_cleaned_covid_data.csv", index=False)



df_cleaned.head(100)


data_filtered = df_cleaned[df_cleaned['location'] == 'India']


fig = px.line(data_filtered, x='date', y='new_cases', title='New COVID Cases Over Time')



fig


# Add Country Selector

df = pd.read_csv("data/owid-covid-data.csv")
df['date'] = pd.to_datetime(df['date'])


df


countries = sorted(df['location'].unique())

selected_country = 'India'

filtered_df = df[df['location'] == selected_country]


fig = px.line(filtered_df, x='date', y='new_cases', title=f"COVID Cases in {selected_country}")
fig.show()


# Simulate user selection
selected_country = 'India'
min_date = df['date'].min()
max_date = df['date'].max()
start_date = pd.to_datetime('2021-01-01')
end_date = pd.to_datetime('2021-12-31')

# Filter by country
filtered_df = df[df['location'] == selected_country]

# Filter by date range
mask = (filtered_df['date'] >= start_date) & (filtered_df['date'] <= end_date)
filtered_df = filtered_df[mask]

# Plot
fig = px.line(filtered_df, x='date', y='new_cases', title=f"New COVID Cases in {selected_country} (Filtered)")
fig.show()



